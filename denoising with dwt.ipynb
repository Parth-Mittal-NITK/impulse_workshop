{
 "cells": [
  {
   "cell_type": "code",
   "execution_count": null,
   "metadata": {},
   "outputs": [],
   "source": [
    "!wget https://github.com/col-aatresh/impulse_workshop/blob/main/sunflower.jpg"
   ]
  },
  {
   "cell_type": "code",
   "execution_count": 11,
   "metadata": {},
   "outputs": [],
   "source": [
    "## Uncomment to download these libraries if you haven't already\n",
    "\n",
    "### Numpy (Uncomment the following line):\n",
    "# !pip install numpy\n",
    "\n",
    "### matplotlib (Uncomment the following line):\n",
    "# !pip install matplotlib\n",
    "\n",
    "### OpenCV (Uncomment the following line):\n",
    "# !pip install opencv-python\n",
    "\n",
    "### scikit-image (Uncomment the following line):\n",
    "# !pip install scikit-image\n",
    "\n",
    "### PyWavelets (Uncomment the following line):\n",
    "# !pip install PyWavelets"
   ]
  },
  {
   "cell_type": "code",
   "execution_count": 12,
   "metadata": {},
   "outputs": [],
   "source": [
    "## Importing relevant libraries\n",
    "\n",
    "### Numpy library helps perform quick numerical matrix based calculations\n",
    "### Link to documentation: https://numpy.org/doc/stable/\n",
    "import numpy as np\n",
    "\n",
    "### Matplotlib is a common library used to mathmatical visualizations \n",
    "### Link to documentation: https://matplotlib.org/3.3.3/contents.html\n",
    "import matplotlib.pyplot as plt\n",
    "\n",
    "### cv2 is the OpenCV 2.0 library that is a popular library for image processing tasks\n",
    "### Link to documentation: https://opencv-python-tutroals.readthedocs.io/en/latest/py_tutorials/py_tutorials.html\n",
    "import cv2\n",
    "\n",
    "### ssim function is used to calculate the structural similarity index metrix -- used to compare the similarity\n",
    "### between images\n",
    "from skimage.measure import compare_ssim as ssim\n",
    "\n",
    "### pywt is a popular python library used for conversions between spatial and wavelet domains\n",
    "### Link to documentation: https://pywavelets.readthedocs.io/en/latest/\n",
    "import pywt"
   ]
  },
  {
   "cell_type": "markdown",
   "metadata": {},
   "source": [
    "## Soft Thresholding - A method to enforce sparsity:\n",
    "\n",
    "soft\\_threshold(X) =  \\begin{cases} \n",
    "      sgn(X)(\\vert X \\vert - T) & \\vert X \\vert \\geq T \\\\\n",
    "      0 & \\vert X \\vert < T \n",
    "        \\end{cases}\n",
    "        "
   ]
  },
  {
   "cell_type": "code",
   "execution_count": 13,
   "metadata": {},
   "outputs": [],
   "source": [
    "def soft_threshold(x,t):\n",
    "    \n",
    "    \"\"\"\n",
    "        Applies the soft thresholding function on x with a threshold t.\n",
    "        \n",
    "        Arguments:\n",
    "            x: vector or matrix to be soft thresholded\n",
    "            t: threshold\n",
    "            \n",
    "        Returns:\n",
    "            x after the soft threshold operation.\n",
    "    \"\"\"\n",
    "    \n",
    "    x = np.maximum(np.abs(x) - t,0) * np.sign(x)\n",
    "    return x"
   ]
  },
  {
   "cell_type": "markdown",
   "metadata": {},
   "source": [
    "## Denoising using wavelets\n",
    "\n",
    "![](./2DDWT.png)\n",
    "\n",
    "The pywavelets library helps us perform quick DWT calculations. [Documentation](https://pywavelets.readthedocs.io/en/latest/ref/2d-dwt-and-idwt.html)\n",
    "\n",
    "![](./pywt_dwt.png)"
   ]
  },
  {
   "cell_type": "code",
   "execution_count": null,
   "metadata": {},
   "outputs": [],
   "source": [
    "def dwt_denoise(img,T,lvl):\n",
    "    \n",
    "    \n",
    "    \"\"\"\n",
    "        Function to enforce sparsity in the wavelet domain given an image \"img\" and threshold \"T\".\n",
    "        \n",
    "        Arguments:\n",
    "            img: intermediate solution\n",
    "            T: threshold\n",
    "            lvl: number of levels of dwt\n",
    "            \n",
    "        Returns:\n",
    "            rec: image \"img\" with sparser wavelet coefficients.\n",
    "    \"\"\"\n",
    "    \n",
    "    coeff = pywt.wavedec2(img,\"haar\",level=lvl)\n",
    "    \n",
    "    nCA4 = soft_threshold(coeff[0],T)\n",
    "    nCA4 = coeff[0]\n",
    "    l = [nCA4]\n",
    "\n",
    "    for i in range(1,len(coeff)):\n",
    "        \n",
    "        t = coeff[i]\n",
    "\n",
    "        t0 = soft_threshold(t[0],T)\n",
    "        t1 = soft_threshold(t[1],T)\n",
    "        t2 = soft_threshold(t[2],T)\n",
    "\n",
    "        t = (t0,t1,t2)\n",
    "\n",
    "        l.append(t)\n",
    "        \n",
    "    rec = pywt.waverec2(l,\"haar\")\n",
    "    \n",
    "    return rec"
   ]
  },
  {
   "cell_type": "markdown",
   "metadata": {},
   "source": [
    "## Cost and gradients:\n",
    "\n",
    "### Cost:\n",
    "\\begin{gather}\n",
    "            J(\\boldsymbol{x}) = \\frac{1}{2}\\Vert \\boldsymbol{x} - \\boldsymbol{y} \\Vert ^{2}_{2} + \\lambda \\Vert \\mathbf{W}\\boldsymbol{x} \\Vert_{1} \\\\\n",
    "            \\boldsymbol{x}^{*} = \\text{argmin}_{\\boldsymbol{x}} \\{ \\frac{1}{2} \\Vert \\boldsymbol{x} - \\boldsymbol{y} \\Vert ^{2}_{2} + \\lambda \\Vert \\mathbf{W}\\boldsymbol{x} \\Vert_{1} \\}\n",
    "        \\end{gather}\n",
    "        \n",
    "### Gradient:\n",
    "\\begin{equation}\n",
    "    g = \\frac{\\partial J(\\boldsymbol{x})}{\\partial \\boldsymbol{x}}\n",
    "\\end{equation}"
   ]
  },
  {
   "cell_type": "code",
   "execution_count": null,
   "metadata": {},
   "outputs": [],
   "source": [
    "def grad(denoised_img,noisy_img):\n",
    "    \n",
    "    \"\"\"\n",
    "        Calculates the partial gradient\n",
    "        \n",
    "        Arguments:\n",
    "            denoised_img: Intermediate solution or x_k\n",
    "            noisy_img: the noisy image or y\n",
    "            \n",
    "        Returns:\n",
    "            Returns the partial gradient.\n",
    "    \"\"\"\n",
    "    \n",
    "    g = denoised_img - noisy_img\n",
    "    \n",
    "    return g"
   ]
  },
  {
   "cell_type": "markdown",
   "metadata": {},
   "source": [
    "# Metrics\n",
    "\n",
    "## Peak signal-to-noise ratio (PSNR)\n",
    "\n",
    "PSNR is a commonly used metric to judge the quality of reconstruction, or in this case, denoised solutions. It is a meausre of the ratio between the maximum possible power of the signal and the power of the noise present. \n",
    "\n",
    "PSNR = $20 \\log_{10} \\frac{(MAX\\ PIXEL\\ VALUE)}{\\sqrt{MSE}}$\n",
    "\n",
    "MSE = mean square error between the reconstructed image and the ground truth image.\n",
    "\n",
    "\n",
    "## Structural similarity index (SSIM)\n",
    "\n",
    "SSIM is used to measure the similarity between images similar to the way humans judge their similarity. It takes into account the luminance, contrast and structure of the images."
   ]
  },
  {
   "cell_type": "code",
   "execution_count": null,
   "metadata": {},
   "outputs": [],
   "source": [
    "def psnr(img1, img2,PIXEL_MAX):\n",
    "    \"\"\"\n",
    "        Calculates the peak signal-to-noise ratio of 2 images\n",
    "        \n",
    "        Arguments:\n",
    "            img1: Image1\n",
    "            img2: Image2\n",
    "            PIXEL_MAX: maximum possible pixel intensity in the image\n",
    "            \n",
    "        Returns:\n",
    "            The peak signal-to-noise ratio of the 2 images\n",
    "    \"\"\"\n",
    "    \n",
    "    mse = np.mean( (img1 - img2) ** 2 )\n",
    "    if mse == 0:\n",
    "        return 100.0\n",
    "    \n",
    "    return 20 * np.log10(PIXEL_MAX / np.sqrt(mse))"
   ]
  },
  {
   "cell_type": "code",
   "execution_count": null,
   "metadata": {},
   "outputs": [],
   "source": [
    "## Load ground truth image\n",
    "gt_img = cv2.imread(\"sunflower.jpg\",0)  ## Read an image given the image name\n",
    "gt_img = cv2.resize(gt_img,(256,256))  ## Resize the image to a more workable size \n",
    "gt_img = np.float32(gt_img)  ## type cast the image to a float data type for future calculations\n",
    "\n",
    "## Displaying the image\n",
    "plt.axis(\"off\") ## remove x and y axes\n",
    "plt.title(\"Ground truth image\") ## title of image\n",
    "plt.imshow(gt_img,cmap = \"gray\") ## display image using a gray colormap"
   ]
  },
  {
   "cell_type": "markdown",
   "metadata": {},
   "source": [
    "# Simulating a noisy image\n",
    "\n",
    "In this experiment, we consider additive white gaussian noise (AWGN) drawn from an independent and identically distributed zero mean distribution with a particular standard of deviation $\\sigma$. \n",
    "\n",
    "$\\mathbf{Y} = \\mathbf{X} + \\mathbf{E}$, where $\\mathbf{E}$ is drawn from $\\mathcal{N}(0,\\sigma^{2}\\mathbf{I})$"
   ]
  },
  {
   "cell_type": "code",
   "execution_count": null,
   "metadata": {},
   "outputs": [],
   "source": [
    "## Preparing and adding noise\n",
    "mean = 0.0  ## zero mean\n",
    "std = 20  ## standard of deviation of noise\n",
    "\n",
    "noise = np.random.normal(mean,std,size = gt_img.shape)  ## using a numpy function to draw noise samples given mean and std\n",
    "noisy_img = gt_img + noise  ## simulating a noisy image\n",
    "\n",
    "noisy_img[noisy_img > 255] = 255  ## cliping noisy above 255 \n",
    "noisy_img[noisy_img < 0] = 0  ## clipping noise below 0\n",
    "\n",
    "\n",
    "## visualizing ground truth and noisy images\n",
    "fig,ax = plt.subplots(1,2,figsize = (10,10))\n",
    "\n",
    "ax[0].set_title(\"Ground truth image\")\n",
    "ax[0].axis(\"off\")\n",
    "ax[0].imshow(gt_img,cmap = \"gray\")\n",
    "\n",
    "ax[1].set_title(\"Noisy image (std = %0.2f)\" % (std))\n",
    "ax[1].axis(\"off\")\n",
    "ax[1].imshow(noisy_img,cmap = \"gray\")\n",
    "plt.show()"
   ]
  },
  {
   "cell_type": "markdown",
   "metadata": {},
   "source": [
    "## Applying ISTA (iterative shrinkage thresholding algorithm) for image denoising"
   ]
  },
  {
   "cell_type": "code",
   "execution_count": null,
   "metadata": {
    "scrolled": true
   },
   "outputs": [],
   "source": [
    "## initializing the denoised_img variable before starting the iterative process\n",
    "denoised_img = np.zeros_like(gt_img)\n",
    "\n",
    "## Number of iterations \n",
    "num_iter = 20\n",
    "\n",
    "## Threshold\n",
    "T = 2.0\n",
    "\n",
    "## Number of levels for DWT\n",
    "lvl = 4\n",
    "\n",
    "## Learning rate\n",
    "n=1e-1\n",
    "\n",
    "## Normalize the ground truth image\n",
    "gt_img_norm = gt_img / gt_img.max()\n",
    "\n",
    "\n",
    "## Iterate and find the solution\n",
    "for i in range(0,num_iter):\n",
    "    \n",
    "    ## Calculate partial gradient\n",
    "    g = grad(denoised_img,noisy_img)\n",
    "    int_sol = denoised_img - (n * g)\n",
    "    \n",
    "    ## Perform soft thresholding in the wavelet domain\n",
    "    denoised_img = dwt_denoise(int_sol,T,lvl)\n",
    "\n",
    "    ## Normalize the intermediate denoised image\n",
    "    denoised_img_norm = denoised_img / denoised_img.max()\n",
    "\n",
    "    print(\"iteration: \",i,\"PSNR of iteration: \",psnr(gt_img_norm,denoised_img_norm,1.0))\n",
    "    \n",
    "    \n",
    "## Displaying images\n",
    "fig,ax = plt.subplots(1,3,figsize = (14,14))\n",
    "\n",
    "plt.axis(\"off\")\n",
    "ax[0].set_title(\"Ground truth image\")\n",
    "ax[0].axis(\"off\")\n",
    "ax[0].imshow(gt_img,cmap = \"gray\")\n",
    "\n",
    "ax[1].set_title(\"Denoised Image | PSNR: %0.2fdB\" % (psnr(gt_img_norm,denoised_img_norm,1.0)))\n",
    "ax[1].axis(\"off\")\n",
    "ax[1].imshow(denoised_img,cmap = \"gray\")\n",
    "\n",
    "ax[2].set_title(\"Noisy Image (std = %0.2f)\" % (std))\n",
    "ax[2].axis(\"off\")\n",
    "ax[2].imshow(noisy_img,cmap = \"gray\")\n",
    "\n",
    "plt.show()"
   ]
  },
  {
   "cell_type": "code",
   "execution_count": null,
   "metadata": {},
   "outputs": [],
   "source": [
    "## Normalize the noisy image\n",
    "noisy_img_norm = noisy_img / noisy_img.max()\n",
    "\n",
    "print(\"PSNR before denoising: \",psnr(gt_img_norm,noisy_img_norm,1.0))\n",
    "print(\"PSNR after denoising: \",psnr(gt_img_norm,denoised_img_norm,1.0))\n",
    "\n",
    "print(\"SSIM before denoising: \",ssim(noisy_img_norm,gt_img_norm,data_range = noisy_img_norm.max() - noisy_img_norm.min()))\n",
    "print(\"SSIM after denoising: \",ssim(denoised_img_norm,gt_img_norm,data_range = denoised_img_norm.max() - denoised_img_norm.min()))"
   ]
  },
  {
   "cell_type": "code",
   "execution_count": null,
   "metadata": {},
   "outputs": [],
   "source": []
  }
 ],
 "metadata": {
  "kernelspec": {
   "display_name": "Python 3",
   "language": "python",
   "name": "python3"
  },
  "language_info": {
   "codemirror_mode": {
    "name": "ipython",
    "version": 3
   },
   "file_extension": ".py",
   "mimetype": "text/x-python",
   "name": "python",
   "nbconvert_exporter": "python",
   "pygments_lexer": "ipython3",
   "version": "3.6.9"
  }
 },
 "nbformat": 4,
 "nbformat_minor": 2
}
